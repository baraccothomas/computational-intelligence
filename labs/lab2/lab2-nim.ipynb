{
 "cells": [
  {
   "cell_type": "markdown",
   "metadata": {
    "pycharm": {
     "name": "#%%\n"
    }
   },
   "source": [
    "# Lab 3: ES\n",
    "\n",
    "## Task\n",
    "\n",
    "Write agents able to play [*Nim*](https://en.wikipedia.org/wiki/Nim), with an arbitrary number of rows and an upper bound $k$ on the number of objects that can be removed in a turn (a.k.a., *subtraction game*).\n",
    "\n",
    "The goal of the game is to **avoid** taking the last object.\n",
    "\n",
    "* Task2.1: An agent using fixed rules based on *nim-sum* (i.e., an *expert system*)\n",
    "* Task2.2: An agent using evolved rules using ES\n",
    "\n",
    "## Instructions\n",
    "\n",
    "* Create the directory `lab2` inside your personal course repository for the course \n",
    "* Put a `README.md` and your solution (all the files, code and auxiliary data if needed)\n",
    "\n",
    "## Notes\n",
    "\n",
    "* Working in group is not only allowed, but recommended (see: [Ubuntu](https://en.wikipedia.org/wiki/Ubuntu_philosophy) and [Cooperative Learning](https://files.eric.ed.gov/fulltext/EJ1096789.pdf)). Collaborations must be explicitly declared in the `README.md`.\n",
    "* [Yanking](https://www.emacswiki.org/emacs/KillingAndYanking) from the internet is allowed, but sources must be explicitly declared in the `README.md`.\n",
    "\n"
   ]
  },
  {
   "cell_type": "markdown",
   "metadata": {},
   "source": [
    "## Imports"
   ]
  },
  {
   "cell_type": "code",
   "execution_count": 61,
   "metadata": {},
   "outputs": [],
   "source": [
    "import logging\n",
    "from pprint import pprint, pformat\n",
    "from collections import namedtuple\n",
    "import random\n",
    "from copy import deepcopy, copy\n",
    "from dataclasses import dataclass\n",
    "import math"
   ]
  },
  {
   "cell_type": "markdown",
   "metadata": {},
   "source": [
    "## The *Nim* and *Nimply* classes"
   ]
  },
  {
   "cell_type": "code",
   "execution_count": 62,
   "metadata": {},
   "outputs": [],
   "source": [
    "Nimply = namedtuple(\"Nimply\", \"row, num_objects\")"
   ]
  },
  {
   "cell_type": "code",
   "execution_count": 63,
   "metadata": {},
   "outputs": [],
   "source": [
    "class Nim:\n",
    "    def __init__(self, num_rows: int, k: int = None) -> None:\n",
    "        self._rows = [i * 2 + 1 for i in range(num_rows)]\n",
    "        self._k = k\n",
    "\n",
    "    def __bool__(self):\n",
    "        return sum(self._rows) > 0\n",
    "\n",
    "    def __str__(self):\n",
    "        return \"<\" + \" \".join(str(_) for _ in self._rows) + \">\"\n",
    "\n",
    "    @property\n",
    "    def rows(self) -> tuple:\n",
    "        return tuple(self._rows)\n",
    "\n",
    "    def nimming(self, ply: Nimply) -> None:\n",
    "        row, num_objects = ply\n",
    "        assert self._rows[row] >= num_objects\n",
    "        assert self._k is None or num_objects <= self._k\n",
    "        self._rows[row] -= num_objects\n"
   ]
  },
  {
   "cell_type": "markdown",
   "metadata": {},
   "source": [
    "## Strategies"
   ]
  },
  {
   "cell_type": "markdown",
   "metadata": {},
   "source": [
    "#### Random strategy\n",
    "\n",
    ">A completely random move"
   ]
  },
  {
   "cell_type": "code",
   "execution_count": 64,
   "metadata": {},
   "outputs": [],
   "source": [
    "def pure_random(state: Nim) -> Nimply:\n",
    "    \"\"\"A completely random move\"\"\"\n",
    "    row = random.choice([r for r, c in enumerate(state.rows) if c > 0])\n",
    "    num_objects = random.randint(1, state.rows[row])\n",
    "    return Nimply(row, num_objects)\n"
   ]
  },
  {
   "cell_type": "markdown",
   "metadata": {},
   "source": [
    "#### Gabriele's strategy\n",
    "> Pick always the maximum possible number of the lowest row\n"
   ]
  },
  {
   "cell_type": "code",
   "execution_count": 65,
   "metadata": {},
   "outputs": [],
   "source": [
    "def gabriele(state: Nim) -> Nimply:\n",
    "    \"\"\"Pick always the maximum possible number of the lowest row\"\"\"\n",
    "    possible_moves = [(r, o) for r, c in enumerate(state.rows) for o in range(1, c + 1)]\n",
    "    return Nimply(*max(possible_moves, key=lambda m: (-m[0], m[1])))\n"
   ]
  },
  {
   "cell_type": "markdown",
   "metadata": {},
   "source": [
    "#### Optimal strategy\n",
    "\n",
    ">Fixed rules based on *nim-sum*"
   ]
  },
  {
   "cell_type": "code",
   "execution_count": 66,
   "metadata": {},
   "outputs": [],
   "source": [
    "import numpy as np\n",
    "\n",
    "\n",
    "def nim_sum(state: Nim) -> int:\n",
    "    tmp = np.array([tuple(int(x) for x in f\"{c:032b}\") for c in state.rows])\n",
    "    xor = tmp.sum(axis=0) % 2\n",
    "    return int(\"\".join(str(_) for _ in xor), base=2)\n",
    "\n",
    "\n",
    "def analize(raw: Nim) -> dict:\n",
    "    cooked = dict()\n",
    "    cooked[\"possible_moves\"] = dict()\n",
    "    for ply in (Nimply(r, o) for r, c in enumerate(raw.rows) for o in range(1, c + 1)):\n",
    "        tmp = deepcopy(raw)\n",
    "        tmp.nimming(ply)\n",
    "        cooked[\"possible_moves\"][ply] = nim_sum(tmp)\n",
    "    return cooked\n",
    "\n",
    "\n",
    "def optimal(state: Nim) -> Nimply:\n",
    "    analysis = analize(state)\n",
    "    logging.debug(f\"analysis:\\n{pformat(analysis)}\")\n",
    "    spicy_moves = [ply for ply, ns in analysis[\"possible_moves\"].items() if ns != 0]\n",
    "    if not spicy_moves:\n",
    "        spicy_moves = list(analysis[\"possible_moves\"].keys())\n",
    "    ply = random.choice(spicy_moves)\n",
    "    return ply\n"
   ]
  },
  {
   "cell_type": "markdown",
   "metadata": {},
   "source": [
    "#### EA strategy\n",
    "> A strategy that can adapt its parameters"
   ]
  },
  {
   "cell_type": "code",
   "execution_count": 67,
   "metadata": {},
   "outputs": [],
   "source": [
    "# Set of available operations on the state\n",
    "F = ['+', '-', '*', 'div', 'mod', 'and', 'or', 'xor']\n",
    "\n",
    "POPULATION_SIZE = 5\n",
    "NUM_ROWS = 5\n",
    "NUM_GAMES = 5"
   ]
  },
  {
   "cell_type": "code",
   "execution_count": 68,
   "metadata": {},
   "outputs": [],
   "source": [
    "def check_result(state: list, nim: Nim, row: int, num: int):\n",
    "    nim = deepcopy(nim)\n",
    "\n",
    "    result = state[0]\n",
    "\n",
    "    for i in range(1, len(state), 2):\n",
    "        operator = state[i]\n",
    "        n = state[i + 1]\n",
    "\n",
    "        nim.nimming(Nimply(row, num))\n",
    "\n",
    "        if operator == \"+\":\n",
    "            result = result + nim.rows[n]\n",
    "        elif operator == \"-\":\n",
    "            result = result - nim.rows[n]\n",
    "        elif operator == \"*\":\n",
    "            result = result * nim.rows[n]\n",
    "        elif operator == \"div\":\n",
    "            if nim.rows[n] != 0:\n",
    "                result = result / nim.rows[n]\n",
    "            else:\n",
    "                return None\n",
    "        elif operator == \"mod\":\n",
    "            if nim.rows[n] != 0:\n",
    "                result = result % nim.rows[n]\n",
    "            else:\n",
    "                return None\n",
    "        elif operator == \"and\":\n",
    "            result = result & nim.rows[n]\n",
    "        elif operator == \"or\":\n",
    "            result = result | nim.rows[n]\n",
    "        elif operator == \"xor\":\n",
    "            result = result ^ nim.rows[n]\n",
    "\n",
    "    return result\n",
    "\n",
    "\n",
    "def fitness(state: tuple[list, int]):\n",
    "    \"\"\"Number of games won\"\"\"\n",
    "\n",
    "    result = 0\n",
    "    formula = state[0]\n",
    "    formula_result = state[1]\n",
    "\n",
    "    for i in range(NUM_GAMES):\n",
    "        nim = Nim(NUM_ROWS)\n",
    "        player = 0\n",
    "        while nim:\n",
    "            if player == 0:\n",
    "                ply = optimal(nim)\n",
    "            elif player == 1:\n",
    "                ok = False\n",
    "                while not ok:\n",
    "                    row = random.choice(range(NUM_ROWS))\n",
    "                    if nim.rows[row] == 0:\n",
    "                        continue\n",
    "\n",
    "                    num = random.choice(range(nim.rows[row] + 1))\n",
    "\n",
    "                    c_result = check_result(formula, nim, row, num) % 2\n",
    "\n",
    "                    if c_result == formula_result:\n",
    "                        ok = True\n",
    "                ply = Nimply(row, num)\n",
    "\n",
    "            nim.nimming(ply)\n",
    "            player = 1 - player\n",
    "        if player == 1:\n",
    "            result += 1\n",
    "\n",
    "    return result"
   ]
  },
  {
   "cell_type": "code",
   "execution_count": 69,
   "metadata": {},
   "outputs": [],
   "source": [
    "@dataclass\n",
    "class Individual:\n",
    "    genotype: tuple[list, int]\n",
    "    fitness: int"
   ]
  },
  {
   "cell_type": "code",
   "execution_count": 70,
   "metadata": {},
   "outputs": [
    {
     "name": "stdout",
     "output_type": "stream",
     "text": [
      "Individual(genotype=([3], 1), fitness=4)\n"
     ]
    },
    {
     "ename": "AssertionError",
     "evalue": "",
     "output_type": "error",
     "traceback": [
      "\u001b[0;31m---------------------------------------------------------------------------\u001b[0m",
      "\u001b[0;31mAssertionError\u001b[0m                            Traceback (most recent call last)",
      "\u001b[1;32m/Users/thomas/Library/Mobile Documents/com~apple~CloudDocs/PoliTO/2023:2024/Computer Intelligence/computational-intelligence-personal/labs/lab2/lab2-nim.ipynb Cella 18\u001b[0m line \u001b[0;36m1\n\u001b[1;32m      <a href='vscode-notebook-cell:/Users/thomas/Library/Mobile%20Documents/com~apple~CloudDocs/PoliTO/2023%3A2024/Computer%20Intelligence/computational-intelligence-personal/labs/lab2/lab2-nim.ipynb#X21sZmlsZQ%3D%3D?line=0'>1</a>\u001b[0m population \u001b[39m=\u001b[39m [\n\u001b[1;32m      <a href='vscode-notebook-cell:/Users/thomas/Library/Mobile%20Documents/com~apple~CloudDocs/PoliTO/2023%3A2024/Computer%20Intelligence/computational-intelligence-personal/labs/lab2/lab2-nim.ipynb#X21sZmlsZQ%3D%3D?line=1'>2</a>\u001b[0m     Individual(\n\u001b[1;32m      <a href='vscode-notebook-cell:/Users/thomas/Library/Mobile%20Documents/com~apple~CloudDocs/PoliTO/2023%3A2024/Computer%20Intelligence/computational-intelligence-personal/labs/lab2/lab2-nim.ipynb#X21sZmlsZQ%3D%3D?line=2'>3</a>\u001b[0m         genotype\u001b[39m=\u001b[39m(\n\u001b[0;32m   (...)\u001b[0m\n\u001b[1;32m     <a href='vscode-notebook-cell:/Users/thomas/Library/Mobile%20Documents/com~apple~CloudDocs/PoliTO/2023%3A2024/Computer%20Intelligence/computational-intelligence-personal/labs/lab2/lab2-nim.ipynb#X21sZmlsZQ%3D%3D?line=11'>12</a>\u001b[0m     \u001b[39mfor\u001b[39;00m _ \u001b[39min\u001b[39;00m \u001b[39mrange\u001b[39m(POPULATION_SIZE)\n\u001b[1;32m     <a href='vscode-notebook-cell:/Users/thomas/Library/Mobile%20Documents/com~apple~CloudDocs/PoliTO/2023%3A2024/Computer%20Intelligence/computational-intelligence-personal/labs/lab2/lab2-nim.ipynb#X21sZmlsZQ%3D%3D?line=12'>13</a>\u001b[0m ]\n\u001b[1;32m     <a href='vscode-notebook-cell:/Users/thomas/Library/Mobile%20Documents/com~apple~CloudDocs/PoliTO/2023%3A2024/Computer%20Intelligence/computational-intelligence-personal/labs/lab2/lab2-nim.ipynb#X21sZmlsZQ%3D%3D?line=14'>15</a>\u001b[0m \u001b[39mfor\u001b[39;00m i \u001b[39min\u001b[39;00m population:\n\u001b[0;32m---> <a href='vscode-notebook-cell:/Users/thomas/Library/Mobile%20Documents/com~apple~CloudDocs/PoliTO/2023%3A2024/Computer%20Intelligence/computational-intelligence-personal/labs/lab2/lab2-nim.ipynb#X21sZmlsZQ%3D%3D?line=15'>16</a>\u001b[0m     i\u001b[39m.\u001b[39mfitness \u001b[39m=\u001b[39m fitness(i\u001b[39m.\u001b[39;49mgenotype)\n\u001b[1;32m     <a href='vscode-notebook-cell:/Users/thomas/Library/Mobile%20Documents/com~apple~CloudDocs/PoliTO/2023%3A2024/Computer%20Intelligence/computational-intelligence-personal/labs/lab2/lab2-nim.ipynb#X21sZmlsZQ%3D%3D?line=16'>17</a>\u001b[0m     \u001b[39mprint\u001b[39m(i)\n\u001b[1;32m     <a href='vscode-notebook-cell:/Users/thomas/Library/Mobile%20Documents/com~apple~CloudDocs/PoliTO/2023%3A2024/Computer%20Intelligence/computational-intelligence-personal/labs/lab2/lab2-nim.ipynb#X21sZmlsZQ%3D%3D?line=18'>19</a>\u001b[0m population\n",
      "\u001b[1;32m/Users/thomas/Library/Mobile Documents/com~apple~CloudDocs/PoliTO/2023:2024/Computer Intelligence/computational-intelligence-personal/labs/lab2/lab2-nim.ipynb Cella 18\u001b[0m line \u001b[0;36m6\n\u001b[1;32m     <a href='vscode-notebook-cell:/Users/thomas/Library/Mobile%20Documents/com~apple~CloudDocs/PoliTO/2023%3A2024/Computer%20Intelligence/computational-intelligence-personal/labs/lab2/lab2-nim.ipynb#X21sZmlsZQ%3D%3D?line=56'>57</a>\u001b[0m     \u001b[39mcontinue\u001b[39;00m\n\u001b[1;32m     <a href='vscode-notebook-cell:/Users/thomas/Library/Mobile%20Documents/com~apple~CloudDocs/PoliTO/2023%3A2024/Computer%20Intelligence/computational-intelligence-personal/labs/lab2/lab2-nim.ipynb#X21sZmlsZQ%3D%3D?line=58'>59</a>\u001b[0m num \u001b[39m=\u001b[39m random\u001b[39m.\u001b[39mchoice(\u001b[39mrange\u001b[39m(nim\u001b[39m.\u001b[39mrows[row] \u001b[39m+\u001b[39m \u001b[39m1\u001b[39m))\n\u001b[0;32m---> <a href='vscode-notebook-cell:/Users/thomas/Library/Mobile%20Documents/com~apple~CloudDocs/PoliTO/2023%3A2024/Computer%20Intelligence/computational-intelligence-personal/labs/lab2/lab2-nim.ipynb#X21sZmlsZQ%3D%3D?line=60'>61</a>\u001b[0m c_result \u001b[39m=\u001b[39m check_result(formula, nim, row, num) \u001b[39m%\u001b[39m \u001b[39m2\u001b[39m\n\u001b[1;32m     <a href='vscode-notebook-cell:/Users/thomas/Library/Mobile%20Documents/com~apple~CloudDocs/PoliTO/2023%3A2024/Computer%20Intelligence/computational-intelligence-personal/labs/lab2/lab2-nim.ipynb#X21sZmlsZQ%3D%3D?line=62'>63</a>\u001b[0m \u001b[39mif\u001b[39;00m (\n\u001b[1;32m     <a href='vscode-notebook-cell:/Users/thomas/Library/Mobile%20Documents/com~apple~CloudDocs/PoliTO/2023%3A2024/Computer%20Intelligence/computational-intelligence-personal/labs/lab2/lab2-nim.ipynb#X21sZmlsZQ%3D%3D?line=63'>64</a>\u001b[0m     c_result\n\u001b[1;32m     <a href='vscode-notebook-cell:/Users/thomas/Library/Mobile%20Documents/com~apple~CloudDocs/PoliTO/2023%3A2024/Computer%20Intelligence/computational-intelligence-personal/labs/lab2/lab2-nim.ipynb#X21sZmlsZQ%3D%3D?line=64'>65</a>\u001b[0m     \u001b[39m==\u001b[39m formula_result\n\u001b[1;32m     <a href='vscode-notebook-cell:/Users/thomas/Library/Mobile%20Documents/com~apple~CloudDocs/PoliTO/2023%3A2024/Computer%20Intelligence/computational-intelligence-personal/labs/lab2/lab2-nim.ipynb#X21sZmlsZQ%3D%3D?line=65'>66</a>\u001b[0m ):\n\u001b[1;32m     <a href='vscode-notebook-cell:/Users/thomas/Library/Mobile%20Documents/com~apple~CloudDocs/PoliTO/2023%3A2024/Computer%20Intelligence/computational-intelligence-personal/labs/lab2/lab2-nim.ipynb#X21sZmlsZQ%3D%3D?line=66'>67</a>\u001b[0m     ok \u001b[39m=\u001b[39m \u001b[39mTrue\u001b[39;00m\n",
      "\u001b[1;32m/Users/thomas/Library/Mobile Documents/com~apple~CloudDocs/PoliTO/2023:2024/Computer Intelligence/computational-intelligence-personal/labs/lab2/lab2-nim.ipynb Cella 18\u001b[0m line \u001b[0;36m1\n\u001b[1;32m      <a href='vscode-notebook-cell:/Users/thomas/Library/Mobile%20Documents/com~apple~CloudDocs/PoliTO/2023%3A2024/Computer%20Intelligence/computational-intelligence-personal/labs/lab2/lab2-nim.ipynb#X21sZmlsZQ%3D%3D?line=7'>8</a>\u001b[0m operator \u001b[39m=\u001b[39m state[i]\n\u001b[1;32m      <a href='vscode-notebook-cell:/Users/thomas/Library/Mobile%20Documents/com~apple~CloudDocs/PoliTO/2023%3A2024/Computer%20Intelligence/computational-intelligence-personal/labs/lab2/lab2-nim.ipynb#X21sZmlsZQ%3D%3D?line=8'>9</a>\u001b[0m n \u001b[39m=\u001b[39m state[i \u001b[39m+\u001b[39m \u001b[39m1\u001b[39m]\n\u001b[0;32m---> <a href='vscode-notebook-cell:/Users/thomas/Library/Mobile%20Documents/com~apple~CloudDocs/PoliTO/2023%3A2024/Computer%20Intelligence/computational-intelligence-personal/labs/lab2/lab2-nim.ipynb#X21sZmlsZQ%3D%3D?line=10'>11</a>\u001b[0m nim\u001b[39m.\u001b[39;49mnimming(Nimply(row, num))\n\u001b[1;32m     <a href='vscode-notebook-cell:/Users/thomas/Library/Mobile%20Documents/com~apple~CloudDocs/PoliTO/2023%3A2024/Computer%20Intelligence/computational-intelligence-personal/labs/lab2/lab2-nim.ipynb#X21sZmlsZQ%3D%3D?line=12'>13</a>\u001b[0m \u001b[39mif\u001b[39;00m operator \u001b[39m==\u001b[39m \u001b[39m\"\u001b[39m\u001b[39m+\u001b[39m\u001b[39m\"\u001b[39m:\n\u001b[1;32m     <a href='vscode-notebook-cell:/Users/thomas/Library/Mobile%20Documents/com~apple~CloudDocs/PoliTO/2023%3A2024/Computer%20Intelligence/computational-intelligence-personal/labs/lab2/lab2-nim.ipynb#X21sZmlsZQ%3D%3D?line=13'>14</a>\u001b[0m     result \u001b[39m=\u001b[39m result \u001b[39m+\u001b[39m nim\u001b[39m.\u001b[39mrows[n]\n",
      "\u001b[1;32m/Users/thomas/Library/Mobile Documents/com~apple~CloudDocs/PoliTO/2023:2024/Computer Intelligence/computational-intelligence-personal/labs/lab2/lab2-nim.ipynb Cella 18\u001b[0m line \u001b[0;36m1\n\u001b[1;32m     <a href='vscode-notebook-cell:/Users/thomas/Library/Mobile%20Documents/com~apple~CloudDocs/PoliTO/2023%3A2024/Computer%20Intelligence/computational-intelligence-personal/labs/lab2/lab2-nim.ipynb#X21sZmlsZQ%3D%3D?line=15'>16</a>\u001b[0m \u001b[39mdef\u001b[39;00m \u001b[39mnimming\u001b[39m(\u001b[39mself\u001b[39m, ply: Nimply) \u001b[39m-\u001b[39m\u001b[39m>\u001b[39m \u001b[39mNone\u001b[39;00m:\n\u001b[1;32m     <a href='vscode-notebook-cell:/Users/thomas/Library/Mobile%20Documents/com~apple~CloudDocs/PoliTO/2023%3A2024/Computer%20Intelligence/computational-intelligence-personal/labs/lab2/lab2-nim.ipynb#X21sZmlsZQ%3D%3D?line=16'>17</a>\u001b[0m     row, num_objects \u001b[39m=\u001b[39m ply\n\u001b[0;32m---> <a href='vscode-notebook-cell:/Users/thomas/Library/Mobile%20Documents/com~apple~CloudDocs/PoliTO/2023%3A2024/Computer%20Intelligence/computational-intelligence-personal/labs/lab2/lab2-nim.ipynb#X21sZmlsZQ%3D%3D?line=17'>18</a>\u001b[0m     \u001b[39massert\u001b[39;00m \u001b[39mself\u001b[39m\u001b[39m.\u001b[39m_rows[row] \u001b[39m>\u001b[39m\u001b[39m=\u001b[39m num_objects\n\u001b[1;32m     <a href='vscode-notebook-cell:/Users/thomas/Library/Mobile%20Documents/com~apple~CloudDocs/PoliTO/2023%3A2024/Computer%20Intelligence/computational-intelligence-personal/labs/lab2/lab2-nim.ipynb#X21sZmlsZQ%3D%3D?line=18'>19</a>\u001b[0m     \u001b[39massert\u001b[39;00m \u001b[39mself\u001b[39m\u001b[39m.\u001b[39m_k \u001b[39mis\u001b[39;00m \u001b[39mNone\u001b[39;00m \u001b[39mor\u001b[39;00m num_objects \u001b[39m<\u001b[39m\u001b[39m=\u001b[39m \u001b[39mself\u001b[39m\u001b[39m.\u001b[39m_k\n\u001b[1;32m     <a href='vscode-notebook-cell:/Users/thomas/Library/Mobile%20Documents/com~apple~CloudDocs/PoliTO/2023%3A2024/Computer%20Intelligence/computational-intelligence-personal/labs/lab2/lab2-nim.ipynb#X21sZmlsZQ%3D%3D?line=19'>20</a>\u001b[0m     \u001b[39mself\u001b[39m\u001b[39m.\u001b[39m_rows[row] \u001b[39m-\u001b[39m\u001b[39m=\u001b[39m num_objects\n",
      "\u001b[0;31mAssertionError\u001b[0m: "
     ]
    }
   ],
   "source": [
    "population = [\n",
    "    Individual(\n",
    "        genotype=(\n",
    "            [\n",
    "                random.choice(F) if i % 2 != 0 else random.randint(0, NUM_ROWS - 1)\n",
    "                for i in range(random.randint(1, NUM_ROWS) * 2 - 1)\n",
    "            ],\n",
    "            random.choice([0, 1]),\n",
    "        ),\n",
    "        fitness=None,\n",
    "    )\n",
    "    for _ in range(POPULATION_SIZE)\n",
    "]\n",
    "\n",
    "for i in population:\n",
    "    i.fitness = fitness(i.genotype)\n",
    "    print(i)\n",
    "\n",
    "population"
   ]
  },
  {
   "cell_type": "code",
   "execution_count": null,
   "metadata": {},
   "outputs": [],
   "source": [
    "def adaptive(state: Nim) -> Nimply:\n",
    "    \"\"\"A strategy that can adapt its parameters\"\"\"\n",
    "    \n",
    "    \n",
    "    genome = {\"love_small\": 0.5}\n"
   ]
  },
  {
   "cell_type": "markdown",
   "metadata": {},
   "source": [
    "### Player 0"
   ]
  },
  {
   "cell_type": "markdown",
   "metadata": {},
   "source": [
    "### Player 1"
   ]
  },
  {
   "cell_type": "markdown",
   "metadata": {},
   "source": [
    "## Oversimplified match"
   ]
  },
  {
   "cell_type": "code",
   "execution_count": null,
   "metadata": {},
   "outputs": [],
   "source": [
    "logging.getLogger().setLevel(logging.INFO)\n",
    "\n",
    "strategy = (optimal, pure_random)\n",
    "\n",
    "nim = Nim(NUM_ROWS)\n",
    "logging.info(f\"init : {nim}\")\n",
    "player = 0\n",
    "while nim:\n",
    "    ply = strategy[player](nim)\n",
    "    logging.info(f\"ply: player {player} plays {ply}\")\n",
    "    nim.nimming(ply)\n",
    "    logging.info(f\"status: {nim}\")\n",
    "    player = 1 - player\n",
    "logging.info(f\"status: Player {player} won!\")\n"
   ]
  }
 ],
 "metadata": {
  "kernelspec": {
   "display_name": "Python 3.10.7 ('ci22-dPIXJ0_o-py3.10')",
   "language": "python",
   "name": "python3"
  },
  "language_info": {
   "codemirror_mode": {
    "name": "ipython",
    "version": 3
   },
   "file_extension": ".py",
   "mimetype": "text/x-python",
   "name": "python",
   "nbconvert_exporter": "python",
   "pygments_lexer": "ipython3",
   "version": "3.9.18"
  },
  "vscode": {
   "interpreter": {
    "hash": "10197e8e2f2aa67e2c349105091c77f4cd384fce4877865f002d9ec653f96bc0"
   }
  }
 },
 "nbformat": 4,
 "nbformat_minor": 2
}
