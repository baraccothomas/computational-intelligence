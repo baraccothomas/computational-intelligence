{
 "cells": [
  {
   "cell_type": "markdown",
   "metadata": {
    "pycharm": {
     "name": "#%%\n"
    }
   },
   "source": [
    "# Lab 3: ES\n",
    "\n",
    "## Task\n",
    "\n",
    "Write agents able to play [*Nim*](https://en.wikipedia.org/wiki/Nim), with an arbitrary number of rows and an upper bound $k$ on the number of objects that can be removed in a turn (a.k.a., *subtraction game*).\n",
    "\n",
    "The goal of the game is to **avoid** taking the last object.\n",
    "\n",
    "* Task2.1: An agent using fixed rules based on *nim-sum* (i.e., an *expert system*)\n",
    "* Task2.2: An agent using evolved rules using ES\n",
    "\n",
    "## Instructions\n",
    "\n",
    "* Create the directory `lab2` inside your personal course repository for the course \n",
    "* Put a `README.md` and your solution (all the files, code and auxiliary data if needed)\n",
    "\n",
    "## Notes\n",
    "\n",
    "* Working in group is not only allowed, but recommended (see: [Ubuntu](https://en.wikipedia.org/wiki/Ubuntu_philosophy) and [Cooperative Learning](https://files.eric.ed.gov/fulltext/EJ1096789.pdf)). Collaborations must be explicitly declared in the `README.md`.\n",
    "* [Yanking](https://www.emacswiki.org/emacs/KillingAndYanking) from the internet is allowed, but sources must be explicitly declared in the `README.md`.\n",
    "\n"
   ]
  },
  {
   "cell_type": "markdown",
   "metadata": {},
   "source": [
    "## Imports"
   ]
  },
  {
   "cell_type": "code",
   "execution_count": 1,
   "metadata": {},
   "outputs": [],
   "source": [
    "import logging\n",
    "from pprint import pprint, pformat\n",
    "from collections import namedtuple\n",
    "import random\n",
    "from copy import deepcopy, copy\n",
    "from dataclasses import dataclass\n",
    "import math\n",
    "import ipdb"
   ]
  },
  {
   "cell_type": "markdown",
   "metadata": {},
   "source": [
    "## The *Nim* and *Nimply* classes"
   ]
  },
  {
   "cell_type": "code",
   "execution_count": 2,
   "metadata": {},
   "outputs": [],
   "source": [
    "Nimply = namedtuple(\"Nimply\", \"row, num_objects\")"
   ]
  },
  {
   "cell_type": "code",
   "execution_count": 3,
   "metadata": {},
   "outputs": [],
   "source": [
    "class Nim:\n",
    "    def __init__(self, num_rows: int, k: int = None) -> None:\n",
    "        self._rows = [i * 2 + 1 for i in range(num_rows)]\n",
    "        self._k = k\n",
    "\n",
    "    def __bool__(self):\n",
    "        return sum(self._rows) > 0\n",
    "\n",
    "    def __str__(self):\n",
    "        return \"<\" + \" \".join(str(_) for _ in self._rows) + \">\"\n",
    "\n",
    "    @property\n",
    "    def rows(self) -> tuple:\n",
    "        return tuple(self._rows)\n",
    "\n",
    "    def nimming(self, ply: Nimply) -> None:\n",
    "        row, num_objects = ply\n",
    "        assert self._rows[row] >= num_objects\n",
    "        assert self._k is None or num_objects <= self._k\n",
    "        self._rows[row] -= num_objects\n"
   ]
  },
  {
   "cell_type": "markdown",
   "metadata": {},
   "source": [
    "## Strategies"
   ]
  },
  {
   "cell_type": "markdown",
   "metadata": {},
   "source": [
    "#### Random strategy\n",
    "\n",
    ">A completely random move"
   ]
  },
  {
   "cell_type": "code",
   "execution_count": 4,
   "metadata": {},
   "outputs": [],
   "source": [
    "def pure_random(state: Nim) -> Nimply:\n",
    "    \"\"\"A completely random move\"\"\"\n",
    "    row = random.choice([r for r, c in enumerate(state.rows) if c > 0])\n",
    "    num_objects = random.randint(1, state.rows[row])\n",
    "    return Nimply(row, num_objects)\n"
   ]
  },
  {
   "cell_type": "markdown",
   "metadata": {},
   "source": [
    "#### Gabriele's strategy\n",
    "> Pick always the maximum possible number of the lowest row\n"
   ]
  },
  {
   "cell_type": "code",
   "execution_count": 5,
   "metadata": {},
   "outputs": [],
   "source": [
    "def gabriele(state: Nim) -> Nimply:\n",
    "    \"\"\"Pick always the maximum possible number of the lowest row\"\"\"\n",
    "    possible_moves = [(r, o) for r, c in enumerate(state.rows) for o in range(1, c + 1)]\n",
    "    return Nimply(*max(possible_moves, key=lambda m: (-m[0], m[1])))\n"
   ]
  },
  {
   "cell_type": "markdown",
   "metadata": {},
   "source": [
    "#### Optimal strategy\n",
    "\n",
    ">Fixed rules based on *nim-sum*"
   ]
  },
  {
   "cell_type": "code",
   "execution_count": 6,
   "metadata": {},
   "outputs": [],
   "source": [
    "import numpy as np\n",
    "\n",
    "\n",
    "def nim_sum(state: Nim) -> int:\n",
    "    tmp = np.array([tuple(int(x) for x in f\"{c:032b}\") for c in state.rows])\n",
    "    xor = tmp.sum(axis=0) % 2\n",
    "    return int(\"\".join(str(_) for _ in xor), base=2)\n",
    "\n",
    "\n",
    "def analize(raw: Nim) -> dict:\n",
    "    cooked = dict()\n",
    "    cooked[\"possible_moves\"] = dict()\n",
    "    for ply in (Nimply(r, o) for r, c in enumerate(raw.rows) for o in range(1, c + 1)):\n",
    "        tmp = deepcopy(raw)\n",
    "        tmp.nimming(ply)\n",
    "        cooked[\"possible_moves\"][ply] = nim_sum(tmp)\n",
    "    return cooked\n",
    "\n",
    "\n",
    "def optimal(state: Nim) -> Nimply:\n",
    "    analysis = analize(state)\n",
    "    logging.debug(f\"analysis:\\n{pformat(analysis)}\")\n",
    "    spicy_moves = [ply for ply, ns in analysis[\"possible_moves\"].items() if ns != 0]\n",
    "    if not spicy_moves:\n",
    "        spicy_moves = list(analysis[\"possible_moves\"].keys())\n",
    "    ply = random.choice(spicy_moves)\n",
    "    return ply\n"
   ]
  },
  {
   "cell_type": "markdown",
   "metadata": {},
   "source": [
    "#### EA strategy\n",
    "> A strategy that can adapt its parameters"
   ]
  },
  {
   "cell_type": "code",
   "execution_count": 7,
   "metadata": {},
   "outputs": [],
   "source": [
    "# Set of available operations on the state\n",
    "F = ['+', '-', '*', 'div', 'mod', 'and', 'or', 'xor']\n",
    "\n",
    "POPULATION_SIZE = 50\n",
    "NUM_ROWS = 5\n",
    "NUM_GAMES = 40\n",
    "TOURNAMENT_SIZE = 2\n",
    "OFFSPRING_SIZE = 50\n",
    "MUTATION_PROBABILITY = 0.3\n",
    "NUM_GENERATIONS = 20"
   ]
  },
  {
   "cell_type": "code",
   "execution_count": 8,
   "metadata": {},
   "outputs": [],
   "source": [
    "def check_result(state: list, nim: Nim, row: int, num: int) -> int:\n",
    "    '''\n",
    "        Performs the result of the operation given by the genotype.\n",
    "        \n",
    "    '''\n",
    "    nim = deepcopy(nim)\n",
    "\n",
    "    result = state[0]\n",
    "\n",
    "    nim.nimming(Nimply(row, num))\n",
    "\n",
    "    for i in range(1, len(state), 2):\n",
    "        operator = state[i]\n",
    "        n = state[i + 1]\n",
    "\n",
    "        if operator == \"+\":\n",
    "            result = result + nim.rows[n]\n",
    "        elif operator == \"-\":\n",
    "            result = result - nim.rows[n]\n",
    "        elif operator == \"*\":\n",
    "            result = result * nim.rows[n]\n",
    "        elif operator == \"div\":\n",
    "            if nim.rows[n] != 0:\n",
    "                result = int(result / nim.rows[n])\n",
    "            else:\n",
    "                return None\n",
    "        elif operator == \"mod\":\n",
    "            if nim.rows[n] != 0:\n",
    "                result = result % nim.rows[n]\n",
    "            else:\n",
    "                return None\n",
    "        elif operator == \"and\":\n",
    "            result = result & nim.rows[n]\n",
    "        elif operator == \"or\":\n",
    "            result = result | nim.rows[n]\n",
    "        elif operator == \"xor\":\n",
    "            result = result ^ nim.rows[n]\n",
    "\n",
    "    return result\n",
    "\n",
    "\n",
    "def fitness(state: tuple[list, int]) -> tuple[int, int]:\n",
    "    \"\"\"Number of games won\"\"\"\n",
    "\n",
    "    result = 0\n",
    "    formula = state[0]\n",
    "    formula_result = state[1]\n",
    "\n",
    "    random_cost = 0\n",
    "\n",
    "    for i in range(NUM_GAMES):\n",
    "        nim = Nim(NUM_ROWS)\n",
    "        player = random.choice([0, 1])\n",
    "        while nim:\n",
    "            if player == 0:\n",
    "                ply = optimal(nim)\n",
    "            elif player == 1:\n",
    "                already_played = []\n",
    "                ok = False\n",
    "                times = 0\n",
    "                while not ok:\n",
    "                    times += 1\n",
    "                    if times > NUM_ROWS**3:\n",
    "                        break\n",
    "                    \n",
    "                    row = random.choice(range(NUM_ROWS))\n",
    "\n",
    "                    if nim.rows[row] == 0:\n",
    "                        continue\n",
    "                    num = random.choice(range(1, nim.rows[row] + 1))\n",
    "\n",
    "                    if (row, num) in already_played:\n",
    "                        continue\n",
    "\n",
    "                    already_played.append((row, num))\n",
    "                    c_result = check_result(formula, nim, row, num)\n",
    "\n",
    "                    if c_result != None and c_result % 2 == formula_result:\n",
    "                        ok = True\n",
    "\n",
    "                if times > NUM_ROWS**3:\n",
    "                    ply = pure_random(nim)\n",
    "                    random_cost += 1\n",
    "                else:\n",
    "                    ply = Nimply(row, num)\n",
    "\n",
    "            nim.nimming(ply)\n",
    "            player = 1 - player\n",
    "        if player == 1:\n",
    "            result += 1\n",
    "    return result, -random_cost"
   ]
  },
  {
   "cell_type": "code",
   "execution_count": 9,
   "metadata": {},
   "outputs": [],
   "source": [
    "@dataclass\n",
    "class Individual:\n",
    "    genotype: tuple[list, int]\n",
    "    fitness: int\n",
    "\n",
    "def select_parent(pop: list[Individual]) -> Individual:\n",
    "    '''Selects a parent with the maximum fitness from a random pool of individuals'''\n",
    "    \n",
    "    pool = [random.choice(pop) for _ in range(TOURNAMENT_SIZE)]\n",
    "    champion = max(pool, key=lambda i: i.fitness)\n",
    "    return champion\n",
    "\n",
    "def mutate(ind: Individual) -> Individual:\n",
    "    offspring = deepcopy(ind)\n",
    "    \n",
    "    pos = random.randint(0, NUM_ROWS)\n",
    "    if pos == NUM_ROWS:\n",
    "        offspring.genotype[1] = 1 - offspring.genotype[1] # Changes the check-module gene\n",
    "    else:\n",
    "        ok = False\n",
    "        while not ok:\n",
    "            new_value = random.choice(F)\n",
    "            if pos % 2 == 0:\n",
    "                if pos == 0:\n",
    "                    pos = 1\n",
    "                elif pos == NUM_ROWS:\n",
    "                    pos = NUM_ROWS - 1\n",
    "                else:\n",
    "                    pos += 1\n",
    "                \n",
    "            if new_value != offspring.genotype[0][pos]:\n",
    "                offspring.genotype[0][pos] = new_value # Changes a value in the formula\n",
    "                ok = True\n",
    "    \n",
    "    offspring.fitness = None\n",
    "    return offspring\n",
    "\n",
    "def xover(ind1: Individual, ind2: Individual) -> Individual:\n",
    "    \n",
    "    cut_point = random.randint(0, NUM_ROWS * 2 - 1)\n",
    "    \n",
    "    f_result = random.choice([ind1.genotype[1], ind2.genotype[1]])\n",
    "    \n",
    "    offspring = Individual(\n",
    "        fitness=None, genotype=[ind1.genotype[0][:cut_point] + ind2.genotype[0][cut_point:], f_result] # Mixes the two formulas in one\n",
    "    )\n",
    "    \n",
    "    return offspring"
   ]
  },
  {
   "cell_type": "code",
   "execution_count": 10,
   "metadata": {},
   "outputs": [
    {
     "data": {
      "text/plain": [
       "[Individual(genotype=[[0, 'div', 1, 'or', 2, '*', 3, '+', 4], 1], fitness=(15, -79)),\n",
       " Individual(genotype=[[0, 'xor', 1, 'and', 2, 'and', 3, '+', 4], 0], fitness=(15, 0)),\n",
       " Individual(genotype=[[0, 'and', 1, 'div', 2, 'and', 3, 'or', 4], 0], fitness=(11, -51)),\n",
       " Individual(genotype=[[0, '-', 1, 'or', 2, 'and', 3, 'or', 4], 0], fitness=(8, -54)),\n",
       " Individual(genotype=[[0, '-', 1, 'div', 2, 'xor', 3, 'div', 4], 1], fitness=(16, -95)),\n",
       " Individual(genotype=[[0, 'and', 1, '-', 2, 'div', 3, '-', 4], 1], fitness=(8, -63)),\n",
       " Individual(genotype=[[0, 'xor', 1, 'xor', 2, '-', 3, '*', 4], 1], fitness=(8, -59)),\n",
       " Individual(genotype=[[0, '*', 1, 'xor', 2, 'div', 3, 'mod', 4], 0], fitness=(9, -80)),\n",
       " Individual(genotype=[[0, 'mod', 1, 'and', 2, 'and', 3, '+', 4], 0], fitness=(13, -53)),\n",
       " Individual(genotype=[[0, 'or', 1, '*', 2, 'mod', 3, '*', 4], 1], fitness=(8, -137)),\n",
       " Individual(genotype=[[0, 'mod', 1, '-', 2, 'or', 3, 'or', 4], 1], fitness=(8, -82)),\n",
       " Individual(genotype=[[0, 'mod', 1, '+', 2, '+', 3, 'mod', 4], 0], fitness=(6, -80)),\n",
       " Individual(genotype=[[0, '+', 1, '*', 2, 'xor', 3, 'xor', 4], 1], fitness=(8, -35)),\n",
       " Individual(genotype=[[0, 'and', 1, 'mod', 2, '*', 3, 'mod', 4], 1], fitness=(11, -222)),\n",
       " Individual(genotype=[[0, 'xor', 1, 'or', 2, 'div', 3, 'xor', 4], 0], fitness=(15, -57)),\n",
       " Individual(genotype=[[0, 'div', 1, 'xor', 2, '-', 3, 'div', 4], 0], fitness=(9, -85)),\n",
       " Individual(genotype=[[0, 'and', 1, 'or', 2, 'or', 3, '+', 4], 0], fitness=(8, -8)),\n",
       " Individual(genotype=[[0, '*', 1, '+', 2, 'xor', 3, '-', 4], 1], fitness=(23, -23)),\n",
       " Individual(genotype=[[0, 'div', 1, '-', 2, '-', 3, 'xor', 4], 0], fitness=(19, -57)),\n",
       " Individual(genotype=[[0, '+', 1, 'mod', 2, 'mod', 3, '-', 4], 1], fitness=(12, -110)),\n",
       " Individual(genotype=[[0, '+', 1, '-', 2, '*', 3, 'mod', 4], 1], fitness=(5, -119)),\n",
       " Individual(genotype=[[0, '*', 1, '-', 2, 'div', 3, 'xor', 4], 0], fitness=(14, -49)),\n",
       " Individual(genotype=[[0, 'div', 1, 'div', 2, '*', 3, '*', 4], 0], fitness=(9, -84)),\n",
       " Individual(genotype=[[0, '+', 1, '-', 2, 'mod', 3, '*', 4], 0], fitness=(11, -49)),\n",
       " Individual(genotype=[[0, 'mod', 1, '*', 2, '*', 3, 'and', 4], 0], fitness=(15, -57)),\n",
       " Individual(genotype=[[0, 'and', 1, 'xor', 2, 'xor', 3, '*', 4], 1], fitness=(10, -66)),\n",
       " Individual(genotype=[[0, 'and', 1, '+', 2, '*', 3, '-', 4], 1], fitness=(15, -44)),\n",
       " Individual(genotype=[[0, '+', 1, 'or', 2, '-', 3, 'and', 4], 0], fitness=(15, 0)),\n",
       " Individual(genotype=[[0, '+', 1, 'div', 2, 'mod', 3, 'or', 4], 0], fitness=(12, -101)),\n",
       " Individual(genotype=[[0, 'or', 1, '*', 2, 'div', 3, 'and', 4], 0], fitness=(11, -58)),\n",
       " Individual(genotype=[[0, 'mod', 1, '-', 2, 'and', 3, '+', 4], 0], fitness=(9, -68)),\n",
       " Individual(genotype=[[0, '-', 1, 'xor', 2, 'or', 3, 'mod', 4], 0], fitness=(17, -50)),\n",
       " Individual(genotype=[[0, 'and', 1, 'or', 2, 'or', 3, '*', 4], 0], fitness=(11, 0)),\n",
       " Individual(genotype=[[0, 'div', 1, 'and', 2, 'and', 3, '+', 4], 0], fitness=(17, -46)),\n",
       " Individual(genotype=[[0, '*', 1, '*', 2, '-', 3, 'xor', 4], 0], fitness=(11, 0)),\n",
       " Individual(genotype=[[0, '-', 1, 'mod', 2, 'mod', 3, '-', 4], 0], fitness=(8, -80)),\n",
       " Individual(genotype=[[0, '-', 1, 'mod', 2, 'or', 3, '*', 4], 1], fitness=(9, -108)),\n",
       " Individual(genotype=[[0, 'mod', 1, 'mod', 2, 'xor', 3, 'or', 4], 0], fitness=(9, -145)),\n",
       " Individual(genotype=[[0, 'or', 1, 'xor', 2, 'or', 3, 'and', 4], 0], fitness=(13, 0)),\n",
       " Individual(genotype=[[0, 'mod', 1, 'mod', 2, 'mod', 3, 'div', 4], 0], fitness=(8, -112)),\n",
       " Individual(genotype=[[0, 'and', 1, 'and', 2, '*', 3, 'mod', 4], 0], fitness=(12, -43)),\n",
       " Individual(genotype=[[0, '-', 1, '*', 2, 'xor', 3, 'and', 4], 0], fitness=(11, 0)),\n",
       " Individual(genotype=[[0, '+', 1, 'or', 2, 'mod', 3, '-', 4], 0], fitness=(15, -56)),\n",
       " Individual(genotype=[[0, '+', 1, 'and', 2, 'mod', 3, 'and', 4], 0], fitness=(9, -48)),\n",
       " Individual(genotype=[[0, '+', 1, 'div', 2, 'mod', 3, 'mod', 4], 0], fitness=(11, -111)),\n",
       " Individual(genotype=[[0, 'or', 1, 'and', 2, 'or', 3, 'or', 4], 0], fitness=(7, -86)),\n",
       " Individual(genotype=[[0, 'div', 1, '+', 2, '+', 3, '-', 4], 0], fitness=(15, -70)),\n",
       " Individual(genotype=[[0, 'div', 1, 'and', 2, 'mod', 3, 'mod', 4], 1], fitness=(11, -220)),\n",
       " Individual(genotype=[[0, 'and', 1, '+', 2, 'or', 3, '*', 4], 0], fitness=(11, 0)),\n",
       " Individual(genotype=[[0, '*', 1, 'mod', 2, '*', 3, 'xor', 4], 1], fitness=(10, -80))]"
      ]
     },
     "execution_count": 10,
     "metadata": {},
     "output_type": "execute_result"
    }
   ],
   "source": [
    "population = [\n",
    "    Individual(\n",
    "        genotype=[\n",
    "            [\n",
    "                random.choice(F) if i % 2 != 0 else int(i / 2)\n",
    "                for i in range(NUM_ROWS * 2 - 1)\n",
    "            ],\n",
    "            random.choice([0, 1]),\n",
    "        ],\n",
    "        fitness=None,\n",
    "    )\n",
    "    for _ in range(POPULATION_SIZE)\n",
    "]\n",
    "\n",
    "for i in population:\n",
    "    i.fitness = fitness(i.genotype)\n",
    "\n",
    "population"
   ]
  },
  {
   "cell_type": "code",
   "execution_count": 11,
   "metadata": {},
   "outputs": [
    {
     "name": "stdout",
     "output_type": "stream",
     "text": [
      "Individual(genotype=[[0, '*', 1, '+', 2, 'xor', 3, '-', 4], 1], fitness=(23, -23))\n",
      "Individual(genotype=[[0, '*', 1, '+', 2, 'xor', 3, '-', 4], 1], fitness=(23, -23))\n",
      "Individual(genotype=[[0, '*', 1, '+', 2, 'xor', 3, '-', 4], 1], fitness=(23, -23))\n",
      "Individual(genotype=[[0, '+', 1, '+', 2, 'xor', 3, '-', 4], 1], fitness=(24, -18))\n",
      "Individual(genotype=[[0, 'xor', 1, 'or', 2, '+', 3, '-', 4], 1], fitness=(29, -11))\n",
      "Individual(genotype=[[0, 'xor', 1, 'or', 2, '+', 3, '-', 4], 1], fitness=(29, -11))\n",
      "Individual(genotype=[[0, 'xor', 1, 'or', 2, '+', 3, '-', 4], 1], fitness=(29, -11))\n",
      "Individual(genotype=[[0, 'xor', 1, 'or', 2, '+', 3, '-', 4], 1], fitness=(29, -11))\n",
      "Individual(genotype=[[0, 'xor', 1, 'or', 2, '+', 3, '-', 4], 1], fitness=(29, -11))\n",
      "Individual(genotype=[[0, 'xor', 1, 'or', 2, '+', 3, '-', 4], 1], fitness=(29, -11))\n",
      "Individual(genotype=[[0, '-', 1, '+', 2, '+', 3, '-', 4], 1], fitness=(30, -10))\n",
      "Individual(genotype=[[0, '-', 1, '+', 2, '+', 3, '-', 4], 1], fitness=(30, -10))\n",
      "Individual(genotype=[[0, '-', 1, '+', 2, '+', 3, '-', 4], 1], fitness=(30, -10))\n",
      "Individual(genotype=[[0, '-', 1, '+', 2, '+', 3, '-', 4], 1], fitness=(30, -10))\n",
      "Individual(genotype=[[0, '-', 1, '+', 2, '+', 3, '-', 4], 1], fitness=(30, -10))\n",
      "Individual(genotype=[[0, '-', 1, '+', 2, '+', 3, '-', 4], 1], fitness=(30, -10))\n",
      "Individual(genotype=[[0, '-', 1, '+', 2, '+', 3, '-', 4], 1], fitness=(30, -10))\n",
      "Individual(genotype=[[0, '-', 1, '+', 2, '+', 3, '-', 4], 1], fitness=(30, -10))\n",
      "Individual(genotype=[[0, '-', 1, '+', 2, '+', 3, '-', 4], 1], fitness=(30, -10))\n",
      "Individual(genotype=[[0, '-', 1, '+', 2, '+', 3, '-', 4], 1], fitness=(30, -10))\n"
     ]
    }
   ],
   "source": [
    "for generation in range(NUM_GENERATIONS):\n",
    "        offspring = list()\n",
    "        \n",
    "        for counter in range(OFFSPRING_SIZE):\n",
    "            if random.random() < MUTATION_PROBABILITY:\n",
    "                p = select_parent(population)\n",
    "                o = mutate(p)\n",
    "            else:\n",
    "                p1 = select_parent(population)\n",
    "                p2 = select_parent(population)\n",
    "                o = xover(p1, p2)\n",
    "            offspring.append(o)\n",
    "    \n",
    "        for i in offspring:\n",
    "            i.fitness = fitness(i.genotype)\n",
    "        \n",
    "        population.extend(offspring)\n",
    "        population.sort(key=lambda i: i.fitness, reverse=True)\n",
    "        population = population[:POPULATION_SIZE]\n",
    "        print(population[0])\n"
   ]
  },
  {
   "cell_type": "code",
   "execution_count": 12,
   "metadata": {},
   "outputs": [],
   "source": [
    "def adaptive(nim: Nim) -> Nimply:\n",
    "    \"\"\"A strategy that can adapt its parameters\"\"\"\n",
    "\n",
    "    formula = population[0].genotype[0]\n",
    "    formula_result = population[0].genotype[1]\n",
    "    ok = False\n",
    "    times = 0\n",
    "    already_played = []\n",
    "    while not ok:\n",
    "        times += 1\n",
    "        if times > NUM_ROWS**3:\n",
    "            break\n",
    "        row = random.choice(range(NUM_ROWS))\n",
    "        \n",
    "        if nim.rows[row] == 0:\n",
    "            continue\n",
    "        num = random.choice(range(1, nim.rows[row] + 1))\n",
    "        if (row, num) in already_played:\n",
    "            continue\n",
    "\n",
    "        already_played.append((row, num))\n",
    "        c_result = check_result(formula, nim, row, num)\n",
    "\n",
    "        if c_result != None and c_result % 2 == formula_result:\n",
    "            ok = True\n",
    "\n",
    "    if times > NUM_ROWS**3:\n",
    "        ply = pure_random(nim)\n",
    "    else:\n",
    "        ply = Nimply(row, num)\n",
    "\n",
    "    return ply"
   ]
  },
  {
   "cell_type": "markdown",
   "metadata": {},
   "source": [
    "### Player 0"
   ]
  },
  {
   "cell_type": "markdown",
   "metadata": {},
   "source": [
    "### Player 1"
   ]
  },
  {
   "cell_type": "markdown",
   "metadata": {},
   "source": [
    "## Oversimplified match"
   ]
  },
  {
   "cell_type": "code",
   "execution_count": 44,
   "metadata": {},
   "outputs": [
    {
     "name": "stderr",
     "output_type": "stream",
     "text": [
      "INFO:root:init : <1 3 5 7 9>\n",
      "INFO:root:ply: player 0 plays Nimply(row=3, num_objects=6)\n",
      "INFO:root:status: <1 3 5 1 9>\n",
      "INFO:root:ply: player 1 plays Nimply(row=2, num_objects=1)\n",
      "INFO:root:status: <1 3 4 1 9>\n",
      "INFO:root:ply: player 0 plays Nimply(row=4, num_objects=4)\n",
      "INFO:root:status: <1 3 4 1 5>\n",
      "INFO:root:ply: player 1 plays Nimply(row=0, num_objects=1)\n",
      "INFO:root:status: <0 3 4 1 5>\n",
      "INFO:root:ply: player 0 plays Nimply(row=2, num_objects=4)\n",
      "INFO:root:status: <0 3 0 1 5>\n",
      "INFO:root:ply: player 1 plays Nimply(row=4, num_objects=2)\n",
      "INFO:root:status: <0 3 0 1 3>\n",
      "INFO:root:ply: player 0 plays Nimply(row=1, num_objects=2)\n",
      "INFO:root:status: <0 1 0 1 3>\n",
      "INFO:root:ply: player 1 plays Nimply(row=4, num_objects=2)\n",
      "INFO:root:status: <0 1 0 1 1>\n",
      "INFO:root:ply: player 0 plays Nimply(row=3, num_objects=1)\n",
      "INFO:root:status: <0 1 0 0 1>\n",
      "INFO:root:ply: player 1 plays Nimply(row=4, num_objects=1)\n",
      "INFO:root:status: <0 1 0 0 0>\n",
      "INFO:root:ply: player 0 plays Nimply(row=1, num_objects=1)\n",
      "INFO:root:status: <0 0 0 0 0>\n",
      "INFO:root:status: Player 1 won!\n"
     ]
    }
   ],
   "source": [
    "logging.getLogger().setLevel(logging.INFO)\n",
    "\n",
    "\n",
    "\n",
    "strategy = (optimal, adaptive)\n",
    "\n",
    "nim = Nim(NUM_ROWS)\n",
    "logging.info(f\"init : {nim}\")\n",
    "player = random.choice([0,1])\n",
    "while nim:\n",
    "    ply = strategy[player](nim)\n",
    "    logging.info(f\"ply: player {player} plays {ply}\")\n",
    "    nim.nimming(ply)\n",
    "    logging.info(f\"status: {nim}\")\n",
    "    player = 1 - player\n",
    "logging.info(f\"status: Player {player} won!\")\n"
   ]
  }
 ],
 "metadata": {
  "kernelspec": {
   "display_name": "Python 3.10.7 ('ci22-dPIXJ0_o-py3.10')",
   "language": "python",
   "name": "python3"
  },
  "language_info": {
   "codemirror_mode": {
    "name": "ipython",
    "version": 3
   },
   "file_extension": ".py",
   "mimetype": "text/x-python",
   "name": "python",
   "nbconvert_exporter": "python",
   "pygments_lexer": "ipython3",
   "version": "3.9.18"
  },
  "vscode": {
   "interpreter": {
    "hash": "10197e8e2f2aa67e2c349105091c77f4cd384fce4877865f002d9ec653f96bc0"
   }
  }
 },
 "nbformat": 4,
 "nbformat_minor": 2
}
