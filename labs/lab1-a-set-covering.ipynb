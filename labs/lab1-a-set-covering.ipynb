{
 "cells": [
  {
   "cell_type": "markdown",
   "metadata": {},
   "source": [
    "Copyright **`(c)`** 2023 Thomas Baracco `<s308722@studenti.polito.it>`  \n",
    "[`https://github.com/baraccothomas/computational-intelligence`](https://github.com/baraccothomas/computational-intelligence)  \n",
    "Free for personal or classroom use."
   ]
  },
  {
   "cell_type": "code",
   "execution_count": 123,
   "metadata": {},
   "outputs": [],
   "source": [
    "import numpy as np\n",
    "\n",
    "from random import random\n",
    "from collections import namedtuple\n",
    "from functools import reduce\n",
    "from queue import PriorityQueue, SimpleQueue, LifoQueue\n"
   ]
  },
  {
   "cell_type": "code",
   "execution_count": 124,
   "metadata": {},
   "outputs": [],
   "source": [
    "PROBLEM_SIZE = 40\n",
    "NUM_SETS = 50\n",
    "SETS = tuple(\n",
    "    np.array([random() < 0.3 for _ in range(PROBLEM_SIZE)])\n",
    "    for _ in range(NUM_SETS)\n",
    ")\n",
    "\n",
    "State = namedtuple('State', ['taken', 'not_taken'])"
   ]
  },
  {
   "cell_type": "code",
   "execution_count": 125,
   "metadata": {},
   "outputs": [],
   "source": [
    "class Node:\n",
    "    def __init__(self, state, g, h):\n",
    "        self.state = state\n",
    "        self.g = g\n",
    "        self.h = h\n",
    "    \n",
    "    def f(self) -> np.int64:\n",
    "        return self.g + self.h\n",
    "\n",
    "    def __str__(self):\n",
    "        return f\"State: {self.state} | g = {self.g} | h = {self.h} | f = {self.f()}\"\n",
    "    \n",
    "    def __eq__(self, other):\n",
    "        return (self.state == other.state) and (self.g == other.g)\n",
    "\n",
    "    def __ne__(self, other):\n",
    "        return not (self == other)\n",
    "\n",
    "    def __lt__(self, other):\n",
    "        return (self.state < other.state) and (self.g < other.g)\n",
    "\n",
    "    def __gt__(self, other):\n",
    "        return (self.state > other.state) and (self.g > other.g)\n",
    "\n",
    "    def __le__(self, other):\n",
    "        return (self < other) or (self == other)\n",
    "\n",
    "    def __ge__(self, other):\n",
    "        return (self > other) or (self == other)"
   ]
  },
  {
   "cell_type": "code",
   "execution_count": 126,
   "metadata": {},
   "outputs": [],
   "source": [
    "def goal_check(state):\n",
    "    return np.all(\n",
    "        reduce(\n",
    "            np.logical_or,\n",
    "            [SETS[i] for i in state.taken],\n",
    "            np.array([False for i in range(PROBLEM_SIZE)]),\n",
    "        )\n",
    "    )\n",
    "\n",
    "\n",
    "def h(state):\n",
    "    return PROBLEM_SIZE - sum(\n",
    "        reduce(\n",
    "            np.logical_or,\n",
    "            [SETS[i] for i in state.taken],\n",
    "            np.array([False for _ in range(PROBLEM_SIZE)]),\n",
    "        )\n",
    "    )"
   ]
  },
  {
   "cell_type": "code",
   "execution_count": 127,
   "metadata": {},
   "outputs": [],
   "source": [
    "assert goal_check(State(set(range(NUM_SETS)), set())), \"Problem not solvable\""
   ]
  },
  {
   "cell_type": "code",
   "execution_count": 128,
   "metadata": {},
   "outputs": [
    {
     "name": "stdout",
     "output_type": "stream",
     "text": [
      "State(taken={0, 33, 38, 19, 21}, not_taken={1, 2, 3, 4, 5, 6, 7, 8, 9, 10, 11, 12, 13, 14, 15, 16, 17, 18, 20, 22, 23, 24, 25, 26, 27, 28, 29, 30, 31, 32, 34, 35, 36, 37, 39, 40, 41, 42, 43, 44, 45, 46, 47, 48, 49})\n",
      "Solved in 175 steps (5 tiles)\n"
     ]
    }
   ],
   "source": [
    "frontier = PriorityQueue()\n",
    "initialState = State(set(), set(range(NUM_SETS)))\n",
    "initialNode = Node(initialState, 0, h(initialState))\n",
    "frontier.put((initialNode.f(), initialNode))\n",
    "\n",
    "counter = 0\n",
    "_, current_node = frontier.get()\n",
    "\n",
    "while not goal_check(current_node.state):\n",
    "    counter += 1\n",
    "    for action in current_node.state[1]:\n",
    "        new_state = State(\n",
    "            current_node.state.taken ^ {action},\n",
    "            current_node.state.not_taken ^ {action},\n",
    "        )\n",
    "        new_node = Node(new_state, current_node.g + 1, current_node.h + h(new_state))\n",
    "        frontier.put((new_node.f(), new_node))\n",
    "\n",
    "    \n",
    "    _, current_node = frontier.get()\n",
    "\n",
    "print(current_node.state)\n",
    "\n",
    "print(\n",
    "    f\"Solved in {counter:,} steps ({len(current_node.state.taken)} tiles)\"\n",
    ")"
   ]
  }
 ],
 "metadata": {
  "kernelspec": {
   "display_name": "base",
   "language": "python",
   "name": "python3"
  },
  "language_info": {
   "codemirror_mode": {
    "name": "ipython",
    "version": 3
   },
   "file_extension": ".py",
   "mimetype": "text/x-python",
   "name": "python",
   "nbconvert_exporter": "python",
   "pygments_lexer": "ipython3",
   "version": "3.9.13"
  }
 },
 "nbformat": 4,
 "nbformat_minor": 2
}
