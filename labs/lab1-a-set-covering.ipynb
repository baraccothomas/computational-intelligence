{
 "cells": [
  {
   "cell_type": "markdown",
   "metadata": {},
   "source": [
    "Copyright **`(c)`** 2023 Thomas Baracco `<s308722@studenti.polito.it>`  \n",
    "[`https://github.com/baraccothomas/computational-intelligence`](https://github.com/baraccothomas/computational-intelligence)  \n",
    "Free for personal or classroom use."
   ]
  },
  {
   "cell_type": "code",
   "execution_count": 109,
   "metadata": {},
   "outputs": [],
   "source": [
    "import numpy as np\n",
    "\n",
    "from random import random\n",
    "from collections import namedtuple\n",
    "from functools import reduce\n",
    "from queue import PriorityQueue, SimpleQueue, LifoQueue\n"
   ]
  },
  {
   "cell_type": "code",
   "execution_count": 110,
   "metadata": {},
   "outputs": [],
   "source": [
    "PROBLEM_SIZE = 5\n",
    "NUM_SETS = 10\n",
    "SETS = tuple(\n",
    "    np.array([random() < 0.3 for _ in range(PROBLEM_SIZE)])\n",
    "    for _ in range(NUM_SETS)\n",
    ")\n",
    "\n",
    "State = namedtuple('State', ['taken', 'not_taken'])"
   ]
  },
  {
   "cell_type": "code",
   "execution_count": 111,
   "metadata": {},
   "outputs": [],
   "source": [
    "class Node:\n",
    "    def __init__(self, state, g, h):\n",
    "        self.state = state\n",
    "        self.g = g\n",
    "        self.h = h\n",
    "    \n",
    "    def f(self):\n",
    "        return self.g + self.h\n",
    "\n",
    "    def __str__(self):\n",
    "        return f\"State: {self.state} | g = {self.g} | h = {self.h} | f = {self.f()}\""
   ]
  },
  {
   "cell_type": "code",
   "execution_count": 112,
   "metadata": {},
   "outputs": [],
   "source": [
    "def goal_check(state):\n",
    "    return np.all(\n",
    "        reduce(\n",
    "            np.logical_or,\n",
    "            [SETS[i] for i in state.taken],\n",
    "            np.array([False for i in range(PROBLEM_SIZE)]),\n",
    "        )\n",
    "    )\n",
    "\n",
    "\n",
    "def h(state):\n",
    "    return PROBLEM_SIZE - sum(\n",
    "        reduce(\n",
    "            np.logical_or,\n",
    "            [SETS[i] for i in state.taken],\n",
    "            np.array([False for _ in range(PROBLEM_SIZE)]),\n",
    "        )\n",
    "    )"
   ]
  },
  {
   "cell_type": "code",
   "execution_count": 113,
   "metadata": {},
   "outputs": [],
   "source": [
    "assert goal_check(State(set(range(NUM_SETS)), set())), \"Problem not solvable\""
   ]
  },
  {
   "cell_type": "code",
   "execution_count": 114,
   "metadata": {},
   "outputs": [
    {
     "name": "stdout",
     "output_type": "stream",
     "text": [
      "State(taken={2, 3}, not_taken={0, 1, 4, 5, 6, 7, 8, 9})\n"
     ]
    }
   ],
   "source": [
    "openList = []\n",
    "closeList = []\n",
    "initialState = State(set(), set(range(NUM_SETS)))\n",
    "openList.append(Node(initialState, 0, h(initialState)))\n",
    "\n",
    "counter = 0\n",
    "parentNode = {}\n",
    "current_node = openList[0]\n",
    "closeList.append((current_node, parentNode))\n",
    "openList.remove(current_node)\n",
    "\n",
    "while not goal_check(current_node.state):\n",
    "    counter += 1\n",
    "    for action in current_node.state[1]:\n",
    "        new_state = State(\n",
    "            current_node.state.taken ^ {action},\n",
    "            current_node.state.not_taken ^ {action},\n",
    "        )\n",
    "        openList.append(Node(new_state, current_node.g + 1, current_node.h + h(new_state)))\n",
    "    openList.sort(key=lambda x: x.f())\n",
    "\n",
    "    \n",
    "    closeList.append((openList[0], current_node))\n",
    "    current_node = openList[0]\n",
    "    openList.remove(current_node)\n",
    "    \n",
    "print(current_node.state)"
   ]
  }
 ],
 "metadata": {
  "kernelspec": {
   "display_name": "base",
   "language": "python",
   "name": "python3"
  },
  "language_info": {
   "codemirror_mode": {
    "name": "ipython",
    "version": 3
   },
   "file_extension": ".py",
   "mimetype": "text/x-python",
   "name": "python",
   "nbconvert_exporter": "python",
   "pygments_lexer": "ipython3",
   "version": "3.9.13"
  }
 },
 "nbformat": 4,
 "nbformat_minor": 2
}
