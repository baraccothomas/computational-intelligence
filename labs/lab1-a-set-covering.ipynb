{
 "cells": [
  {
   "cell_type": "markdown",
   "metadata": {},
   "source": [
    "# A* algorithm (set-covering problem)"
   ]
  },
  {
   "cell_type": "markdown",
   "metadata": {},
   "source": [
    "Copyright **`(c)`** 2023 Thomas Baracco `<s308722@studenti.polito.it>`  \n",
    "[`https://github.com/baraccothomas/computational-intelligence`](https://github.com/baraccothomas/computational-intelligence)  \n",
    "Free for personal or classroom use."
   ]
  },
  {
   "cell_type": "markdown",
   "metadata": {},
   "source": [
    "## Imports and constants"
   ]
  },
  {
   "cell_type": "code",
   "execution_count": 2,
   "metadata": {},
   "outputs": [],
   "source": [
    "import numpy as np\n",
    "\n",
    "from random import random\n",
    "from collections import namedtuple\n",
    "from functools import reduce\n",
    "from queue import PriorityQueue, SimpleQueue, LifoQueue\n",
    "from math import ceil\n"
   ]
  },
  {
   "cell_type": "code",
   "execution_count": 3,
   "metadata": {},
   "outputs": [],
   "source": [
    "PROBLEM_SIZE = 100\n",
    "NUM_SETS = 1000\n",
    "SETS = tuple(\n",
    "    np.array([random() < 0.3 for _ in range(PROBLEM_SIZE)])\n",
    "    for _ in range(NUM_SETS)\n",
    ")\n",
    "\n",
    "def covered(state):\n",
    "    return reduce(\n",
    "        np.logical_or,\n",
    "        [SETS[i] for i in state.taken],\n",
    "        np.array([False for _ in range(PROBLEM_SIZE)]),\n",
    "    )\n",
    "\n",
    "State = namedtuple('State', ['taken', 'not_taken'])"
   ]
  },
  {
   "cell_type": "markdown",
   "metadata": {},
   "source": [
    "## Node class"
   ]
  },
  {
   "cell_type": "code",
   "execution_count": 4,
   "metadata": {},
   "outputs": [],
   "source": [
    "class Node:\n",
    "    def __init__(self, state, g, h):\n",
    "        self.state = state\n",
    "        self.g = g\n",
    "        self.h = h\n",
    "    \n",
    "    def f(self) -> np.int64:\n",
    "        return self.g + self.h\n",
    "\n",
    "    def __str__(self):\n",
    "        return f\"State: {self.state} | g = {self.g} | h = {self.h} | f = {self.f()}\"\n",
    "    \n",
    "    def __eq__(self, other):\n",
    "        return (self.state == other.state) and (self.g == other.g)\n",
    "\n",
    "    def __ne__(self, other):\n",
    "        return not (self == other)\n",
    "\n",
    "    def __lt__(self, other):\n",
    "        return (self.state < other.state) and (self.g < other.g)\n",
    "\n",
    "    def __gt__(self, other):\n",
    "        return (self.state > other.state) and (self.g > other.g)\n",
    "\n",
    "    def __le__(self, other):\n",
    "        return (self < other) or (self == other)\n",
    "\n",
    "    def __ge__(self, other):\n",
    "        return (self > other) or (self == other)"
   ]
  },
  {
   "cell_type": "markdown",
   "metadata": {},
   "source": [
    "## Goal check"
   ]
  },
  {
   "cell_type": "code",
   "execution_count": 5,
   "metadata": {},
   "outputs": [],
   "source": [
    "def goal_check(state):\n",
    "    return np.all(\n",
    "        reduce(\n",
    "            np.logical_or,\n",
    "            [SETS[i] for i in state.taken],\n",
    "            np.array([False for i in range(PROBLEM_SIZE)]),\n",
    "        )\n",
    "    )"
   ]
  },
  {
   "cell_type": "markdown",
   "metadata": {},
   "source": [
    "## h functions"
   ]
  },
  {
   "cell_type": "code",
   "execution_count": 6,
   "metadata": {},
   "outputs": [],
   "source": [
    "def h1(state):\n",
    "        return PROBLEM_SIZE - sum(\n",
    "            reduce(\n",
    "                np.logical_or,\n",
    "                [SETS[i] for i in state.taken],\n",
    "                np.array([False for _ in range(PROBLEM_SIZE)]),\n",
    "            )\n",
    "    )\n",
    "\n",
    "def h2(state):\n",
    "    largest_set_size = max(sum(s) for s in SETS)\n",
    "    missing_size = PROBLEM_SIZE - sum(covered(state))\n",
    "    optimistic_estimate = ceil(missing_size / largest_set_size)\n",
    "    return optimistic_estimate\n",
    "\n",
    "def h3(state):\n",
    "    already_covered = covered(state)\n",
    "    if np.all(already_covered):\n",
    "        return 0\n",
    "    largest_set_size = max(sum(np.logical_and(s, np.logical_not(already_covered))) for s in SETS)\n",
    "    missing_size = PROBLEM_SIZE - sum(already_covered)\n",
    "    optimistic_estimate = ceil(missing_size / largest_set_size)\n",
    "    return optimistic_estimate\n",
    "\n",
    "def h4(state):\n",
    "    already_covered = covered(state)\n",
    "    if np.all(already_covered):\n",
    "        return 0\n",
    "    missing_size = PROBLEM_SIZE - sum(already_covered)\n",
    "    candidates = sorted((sum(np.logical_and(s, np.logical_not(already_covered))) for s in SETS), reverse=True)\n",
    "    taken = 1\n",
    "    while sum(candidates[:taken]) < missing_size:\n",
    "        taken += 1\n",
    "    return taken\n",
    "\n",
    "def h(state):\n",
    "    return h4(state)"
   ]
  },
  {
   "cell_type": "markdown",
   "metadata": {},
   "source": [
    "## Main code"
   ]
  },
  {
   "cell_type": "markdown",
   "metadata": {},
   "source": [
    "### Goal check assert"
   ]
  },
  {
   "cell_type": "code",
   "execution_count": 12,
   "metadata": {},
   "outputs": [],
   "source": [
    "assert goal_check(State(set(range(NUM_SETS)), set())), \"Problem not solvable\""
   ]
  },
  {
   "cell_type": "markdown",
   "metadata": {},
   "source": [
    "### Depth First"
   ]
  },
  {
   "cell_type": "code",
   "execution_count": 215,
   "metadata": {},
   "outputs": [
    {
     "name": "stdout",
     "output_type": "stream",
     "text": [
      "Solved in 19 steps (2 tiles)\n"
     ]
    }
   ],
   "source": [
    "frontier = SimpleQueue()\n",
    "state = State(set(), set(range(NUM_SETS)))\n",
    "frontier.put(state)\n",
    "\n",
    "counter = 0\n",
    "current_state = frontier.get()\n",
    "\n",
    "while not goal_check(current_state):\n",
    "    counter += 1\n",
    "    for action in current_state[1]:\n",
    "        new_state = State(\n",
    "            current_state.taken ^ {action},\n",
    "            current_state.not_taken ^ {action},\n",
    "        )\n",
    "        frontier.put(new_state)\n",
    "    current_state = frontier.get()\n",
    "\n",
    "print(f\"Solved in {counter:,} steps ({len(current_state.taken)} tiles)\")"
   ]
  },
  {
   "cell_type": "markdown",
   "metadata": {},
   "source": [
    "### A star"
   ]
  },
  {
   "cell_type": "markdown",
   "metadata": {},
   "source": [
    "In this algorithm we use a ```PriorityQueue``` to sort the open list of nodes by ```f```, in order to make the ```get()``` method return the node (state) with the lowest ```f```. Since this is a queue, the node (state) will be always removed from the open list. It's like it's been moved to a \"closed\" list without the need to instantiate it.\n",
    "\n",
    "Every time a new node is discovered, it's added to the queue, with ```g = current_node.g + 1```, which indicates the number of sets taken in a given state, and ```h = current_node.h + h(new_state)```. The ```f``` is calculated automatically and can be called with the method ```.f()```"
   ]
  },
  {
   "cell_type": "code",
   "execution_count": 7,
   "metadata": {},
   "outputs": [],
   "source": [
    "frontier = PriorityQueue()\n",
    "initialState = State(set(), set(range(NUM_SETS)))\n",
    "initialNode = Node(initialState, 0, h(initialState))\n",
    "frontier.put((initialNode.f(), initialNode))\n",
    "\n",
    "counter = 0\n",
    "_, current_node = frontier.get()\n",
    "\n",
    "while not goal_check(current_node.state):\n",
    "    counter += 1\n",
    "    for action in current_node.state[1]:\n",
    "        new_state = State(\n",
    "            current_node.state.taken ^ {action},\n",
    "            current_node.state.not_taken ^ {action},\n",
    "        )\n",
    "        new_node = Node(new_state, current_node.g + 1, current_node.h + h(new_state))\n",
    "        frontier.put((new_node.f(), new_node))\n",
    "    \n",
    "    \n",
    "    \n",
    "    _, current_node = frontier.get()\n",
    "\n",
    "print(current_node.state)\n",
    "\n",
    "print(\n",
    "    f\"Solved in {counter:,} steps ({len(current_node.state.taken)} tiles)\"\n",
    ")"
   ]
  }
 ],
 "metadata": {
  "kernelspec": {
   "display_name": "base",
   "language": "python",
   "name": "python3"
  },
  "language_info": {
   "codemirror_mode": {
    "name": "ipython",
    "version": 3
   },
   "file_extension": ".py",
   "mimetype": "text/x-python",
   "name": "python",
   "nbconvert_exporter": "python",
   "pygments_lexer": "ipython3",
   "version": "3.9.13"
  }
 },
 "nbformat": 4,
 "nbformat_minor": 2
}
