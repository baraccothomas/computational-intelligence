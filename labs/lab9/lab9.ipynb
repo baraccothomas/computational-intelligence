{
 "cells": [
  {
   "cell_type": "markdown",
   "metadata": {},
   "source": [
    "# LAB9\n",
    "\n",
    "Write a local-search algorithm (eg. an EA) able to solve the *Problem* instances 1, 2, 5, and 10 on a 1000-loci genomes, using a minimum number of fitness calls. That's all.\n",
    "\n",
    "### Deadlines:\n",
    "\n",
    "* Submission: Sunday, December 3 ([CET](https://www.timeanddate.com/time/zones/cet))\n",
    "* Reviews: Sunday, December 10 ([CET](https://www.timeanddate.com/time/zones/cet))\n",
    "\n",
    "Notes:\n",
    "\n",
    "* Reviews will be assigned  on Monday, December 4\n",
    "* You need to commit in order to be selected as a reviewer (ie. better to commit an empty work than not to commit)"
   ]
  },
  {
   "cell_type": "markdown",
   "metadata": {},
   "source": [
    "## Imports"
   ]
  },
  {
   "cell_type": "code",
   "execution_count": 77,
   "metadata": {},
   "outputs": [],
   "source": [
    "from random import choices, choice, random, randrange, shuffle\n",
    "from dataclasses import dataclass\n",
    "from copy import copy\n",
    "from tqdm.auto import tqdm\n",
    "\n",
    "import lab9_lib"
   ]
  },
  {
   "cell_type": "markdown",
   "metadata": {},
   "source": [
    "## EA Strategy"
   ]
  },
  {
   "cell_type": "code",
   "execution_count": 78,
   "metadata": {},
   "outputs": [],
   "source": [
    "POPULATION_SIZE = 300\n",
    "OFFSPRING_SIZE = 500\n",
    "TOURNAMENT_SIZE = 2\n",
    "MUTATION_PROBABILITY = .1\n",
    "GENOTYPE_SIZE = 1000\n",
    "N_GENERATIONS = 1000"
   ]
  },
  {
   "cell_type": "code",
   "execution_count": 79,
   "metadata": {},
   "outputs": [],
   "source": [
    "def EA_strategy(fitness):\n",
    "    \n",
    "    @dataclass\n",
    "    class Individual:\n",
    "        genotype: list[int]\n",
    "        fitness: float\n",
    "\n",
    "\n",
    "    def select_parent(pop):\n",
    "        \"\"\"\n",
    "        Selects a parent from the population using tournament selection.\n",
    "\n",
    "        Parameters:\n",
    "            pop (list[Individual]): The population of individuals.\n",
    "\n",
    "        Returns:\n",
    "            Individual: The selected parent.\n",
    "\n",
    "        \"\"\"\n",
    "\n",
    "        pool = [choice(pop) for _ in range(TOURNAMENT_SIZE)]\n",
    "        champion = max(pool, key=lambda i: i.fitness)\n",
    "        return champion\n",
    "\n",
    "\n",
    "    def mutate(ind: Individual) -> Individual:\n",
    "        \"\"\"\n",
    "        Mutates an individual by flipping a random bit in its genotype.\n",
    "\n",
    "        Parameters:\n",
    "            ind (Individual): The individual to mutate.\n",
    "\n",
    "        Returns:\n",
    "            Individual: The mutated individual.\n",
    "\n",
    "        \"\"\"\n",
    "\n",
    "        offspring = copy(ind)\n",
    "        pos = randrange(0, GENOTYPE_SIZE)\n",
    "\n",
    "        offspring.genotype[pos] = 1 - offspring.genotype[pos]\n",
    "        offspring.fitness = None\n",
    "\n",
    "        return offspring\n",
    "\n",
    "\n",
    "    def one_cut_xover(ind1: Individual, ind2: Individual) -> Individual:\n",
    "        \"\"\"\n",
    "        Performs one-cut crossover between two individuals.\n",
    "\n",
    "        Parameters:\n",
    "            ind1 (Individual): The first individual.\n",
    "            ind2 (Individual): The second individual.\n",
    "\n",
    "        Returns:\n",
    "            Individual: The offspring produced by one-cut crossover.\n",
    "        \"\"\"\n",
    "        cut_point = randrange(0, GENOTYPE_SIZE)\n",
    "        offspring = Individual(\n",
    "            fitness=None, genotype=ind1.genotype[:cut_point] + ind2.genotype[cut_point:]\n",
    "        )\n",
    "        assert len(offspring.genotype) == GENOTYPE_SIZE\n",
    "        return offspring\n",
    "\n",
    "    population = [\n",
    "        Individual(genotype=choices([0, 1], k=GENOTYPE_SIZE), fitness=None)\n",
    "        for _ in range(POPULATION_SIZE)\n",
    "    ]\n",
    "\n",
    "    for ind in population:\n",
    "        ind.fitness = fitness(ind.genotype)\n",
    "\n",
    "    population\n",
    "    \n",
    "    with tqdm(total=N_GENERATIONS * OFFSPRING_SIZE) as pbar:\n",
    "        for generation in range(N_GENERATIONS):\n",
    "            offspring = list()\n",
    "\n",
    "            for counter in range(OFFSPRING_SIZE):\n",
    "                # Mutation\n",
    "                if random() < MUTATION_PROBABILITY:\n",
    "                    p = select_parent(population)\n",
    "                    o = mutate(p)\n",
    "                # Crossover\n",
    "                else:\n",
    "                    p1 = select_parent(population)\n",
    "                    p2 = select_parent(population)\n",
    "                    o = one_cut_xover(p1, p2)\n",
    "\n",
    "                offspring.append(o)\n",
    "\n",
    "                pbar.update(1)\n",
    "\n",
    "            # Evaluate fitness of offspring\n",
    "            for i in offspring:\n",
    "                i.fitness = fitness(i.genotype)\n",
    "\n",
    "            # Combine offspring with the existing population\n",
    "            combined_population = population + offspring\n",
    "\n",
    "            # Shuffle the combined population\n",
    "            shuffle(combined_population)\n",
    "\n",
    "            # Select top individuals to form the new population\n",
    "            combined_population.sort(key=lambda i: i.fitness, reverse=True)\n",
    "            population = combined_population[:POPULATION_SIZE]\n",
    "\n",
    "            # Check if optimal solution is found\n",
    "            if population[0].fitness == 1.0:\n",
    "                break\n",
    "\n",
    "    print(f\"Best fitness: {population[0].fitness * 100}%\")\n",
    "    print(f\"Fitness calls: {fitness.calls}\")"
   ]
  },
  {
   "cell_type": "code",
   "execution_count": 80,
   "metadata": {},
   "outputs": [
    {
     "name": "stdout",
     "output_type": "stream",
     "text": [
      "Problem size: 1\n"
     ]
    },
    {
     "data": {
      "application/vnd.jupyter.widget-view+json": {
       "model_id": "f7ee39a1f53a4186a07c3bfbf43c57a4",
       "version_major": 2,
       "version_minor": 0
      },
      "text/plain": [
       "  0%|          | 0/500000 [00:00<?, ?it/s]"
      ]
     },
     "metadata": {},
     "output_type": "display_data"
    },
    {
     "name": "stdout",
     "output_type": "stream",
     "text": [
      "Best fitness: 100.0%\n",
      "Fitness calls: 173800\n",
      "\n",
      "Problem size: 2\n"
     ]
    },
    {
     "data": {
      "application/vnd.jupyter.widget-view+json": {
       "model_id": "988d10832b9d42e0bd190c1eff68aa5b",
       "version_major": 2,
       "version_minor": 0
      },
      "text/plain": [
       "  0%|          | 0/500000 [00:00<?, ?it/s]"
      ]
     },
     "metadata": {},
     "output_type": "display_data"
    },
    {
     "name": "stdout",
     "output_type": "stream",
     "text": [
      "Best fitness: 92.2%\n",
      "Fitness calls: 500300\n",
      "\n",
      "Problem size: 5\n"
     ]
    },
    {
     "data": {
      "application/vnd.jupyter.widget-view+json": {
       "model_id": "f862b547e23b412a9b50c5b43bef4517",
       "version_major": 2,
       "version_minor": 0
      },
      "text/plain": [
       "  0%|          | 0/500000 [00:00<?, ?it/s]"
      ]
     },
     "metadata": {},
     "output_type": "display_data"
    },
    {
     "name": "stdout",
     "output_type": "stream",
     "text": [
      "Best fitness: 48.5%\n",
      "Fitness calls: 500300\n",
      "\n",
      "Problem size: 10\n"
     ]
    },
    {
     "data": {
      "application/vnd.jupyter.widget-view+json": {
       "model_id": "0fd460d9302e4862afaace18bfdc6aed",
       "version_major": 2,
       "version_minor": 0
      },
      "text/plain": [
       "  0%|          | 0/500000 [00:00<?, ?it/s]"
      ]
     },
     "metadata": {},
     "output_type": "display_data"
    },
    {
     "name": "stdout",
     "output_type": "stream",
     "text": [
      "Best fitness: 37.8%\n",
      "Fitness calls: 500300\n",
      "\n"
     ]
    }
   ],
   "source": [
    "for problem_size in [1, 2, 5, 10]:\n",
    "    print(f\"Problem size: {problem_size}\")\n",
    "    fitness = lab9_lib.make_problem(problem_size)\n",
    "    EA_strategy(fitness)\n",
    "    print()"
   ]
  }
 ],
 "metadata": {
  "kernelspec": {
   "display_name": "ci-fLJ3OwGs-py3.12",
   "language": "python",
   "name": "python3"
  },
  "language_info": {
   "codemirror_mode": {
    "name": "ipython",
    "version": 3
   },
   "file_extension": ".py",
   "mimetype": "text/x-python",
   "name": "python",
   "nbconvert_exporter": "python",
   "pygments_lexer": "ipython3",
   "version": "3.9.18"
  }
 },
 "nbformat": 4,
 "nbformat_minor": 2
}
