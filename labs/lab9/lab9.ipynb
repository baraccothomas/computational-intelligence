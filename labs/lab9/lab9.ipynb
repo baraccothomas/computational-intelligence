{
 "cells": [
  {
   "cell_type": "markdown",
   "metadata": {},
   "source": [
    "Copyright **`(c)`** 2023 Giovanni Squillero `<giovanni.squillero@polito.it>`  \n",
    "[`https://github.com/squillero/computational-intelligence`](https://github.com/squillero/computational-intelligence)  \n",
    "Free for personal or classroom use; see [`LICENSE.md`](https://github.com/squillero/computational-intelligence/blob/master/LICENSE.md) for details.  "
   ]
  },
  {
   "cell_type": "markdown",
   "metadata": {},
   "source": [
    "# LAB9\n",
    "\n",
    "Write a local-search algorithm (eg. an EA) able to solve the *Problem* instances 1, 2, 5, and 10 on a 1000-loci genomes, using a minimum number of fitness calls. That's all.\n",
    "\n",
    "### Deadlines:\n",
    "\n",
    "* Submission: Sunday, December 3 ([CET](https://www.timeanddate.com/time/zones/cet))\n",
    "* Reviews: Sunday, December 10 ([CET](https://www.timeanddate.com/time/zones/cet))\n",
    "\n",
    "Notes:\n",
    "\n",
    "* Reviews will be assigned  on Monday, December 4\n",
    "* You need to commit in order to be selected as a reviewer (ie. better to commit an empty work than not to commit)"
   ]
  },
  {
   "cell_type": "markdown",
   "metadata": {},
   "source": [
    "## Imports"
   ]
  },
  {
   "cell_type": "code",
   "execution_count": null,
   "metadata": {},
   "outputs": [],
   "source": [
    "from random import choices, choice, random, randrange\n",
    "from dataclasses import dataclass\n",
    "from copy import copy\n",
    "from tqdm.auto import tqdm\n",
    "\n",
    "import lab9_lib"
   ]
  },
  {
   "cell_type": "markdown",
   "metadata": {},
   "source": [
    "## EA Strategy"
   ]
  },
  {
   "cell_type": "markdown",
   "metadata": {},
   "source": [
    "### Hyper-parameters"
   ]
  },
  {
   "cell_type": "code",
   "execution_count": null,
   "metadata": {},
   "outputs": [],
   "source": [
    "POPULATION_SIZE = 50\n",
    "OFFSPRING_SIZE = 100000\n",
    "TOURNAMENT_SIZE = 2\n",
    "MUTATION_PROBABILITY = .1\n",
    "GENOTYPE_SIZE = 1000\n",
    "PROBLEM_SIZE = 1\n",
    "N_GENERATIONS = 10"
   ]
  },
  {
   "cell_type": "markdown",
   "metadata": {},
   "source": [
    "### Initializations"
   ]
  },
  {
   "cell_type": "code",
   "execution_count": null,
   "metadata": {},
   "outputs": [],
   "source": [
    "fitness = lab9_lib.make_problem(PROBLEM_SIZE)"
   ]
  },
  {
   "cell_type": "markdown",
   "metadata": {},
   "source": [
    "### Classes and methods"
   ]
  },
  {
   "cell_type": "code",
   "execution_count": null,
   "metadata": {},
   "outputs": [],
   "source": [
    "@dataclass\n",
    "class Individual:\n",
    "    genotype: list[int]\n",
    "    fitness: float\n",
    "\n",
    "\n",
    "def select_parent(pop):\n",
    "    pool = [choice(pop) for _ in range(TOURNAMENT_SIZE)]\n",
    "    champion = max(pool, key=lambda i: i.fitness)\n",
    "    return champion\n",
    "\n",
    "\n",
    "def mutate(ind: Individual) -> Individual:\n",
    "    offspring = copy(ind)\n",
    "    pos = randrange(0, GENOTYPE_SIZE)\n",
    "\n",
    "    offspring.genotype[pos] = 1 - offspring.genotype[pos]\n",
    "    offspring.fitness = None\n",
    "\n",
    "    return offspring\n",
    "\n",
    "\n",
    "def one_cut_xover(ind1: Individual, ind2: Individual) -> Individual:\n",
    "    cut_point = randrange(0, GENOTYPE_SIZE)\n",
    "    offspring = Individual(\n",
    "        fitness=None, genotype=ind1.genotype[:cut_point] + ind2.genotype[cut_point:]\n",
    "    )\n",
    "    assert len(offspring.genotype) == GENOTYPE_SIZE\n",
    "    return offspring\n",
    "\n",
    "\n",
    "def two_cuts_xover(ind1: Individual, ind2: Individual) -> Individual:\n",
    "    cut_point1 = randrange(0, GENOTYPE_SIZE)\n",
    "    cut_point2 = randrange(0, GENOTYPE_SIZE)\n",
    "\n",
    "    if cut_point1 < cut_point2:\n",
    "        offspring = choice(\n",
    "            [\n",
    "                Individual(\n",
    "                    fitness=None,\n",
    "                    genotype=ind1.genotype[:cut_point1]\n",
    "                    + ind2.genotype[cut_point1:cut_point2]\n",
    "                    + ind1.genotype[cut_point2:],\n",
    "                ),\n",
    "                Individual(\n",
    "                    fitness=None,\n",
    "                    genotype=ind1.genotype[:cut_point1]\n",
    "                    + ind2.genotype[cut_point1:cut_point2]\n",
    "                    + ind2.genotype[cut_point2:],\n",
    "                ),\n",
    "            ]\n",
    "        )\n",
    "    elif cut_point1 > cut_point2:\n",
    "        offspring = choice(\n",
    "            [\n",
    "                Individual(\n",
    "                    fitness=None,\n",
    "                    genotype=ind1.genotype[:cut_point2]\n",
    "                    + ind2.genotype[cut_point2:cut_point1]\n",
    "                    + ind1.genotype[cut_point1:],\n",
    "                ),\n",
    "                Individual(\n",
    "                    fitness=None,\n",
    "                    genotype=ind1.genotype[:cut_point2]\n",
    "                    + ind2.genotype[cut_point2:cut_point1]\n",
    "                    + ind2.genotype[cut_point1:],\n",
    "                ),\n",
    "            ]\n",
    "        )\n",
    "    else:\n",
    "        offspring = Individual(\n",
    "            fitness=None,\n",
    "            genotype=ind1.genotype[:cut_point1] + ind2.genotype[cut_point1:],\n",
    "        )\n",
    "    assert len(offspring.genotype) == GENOTYPE_SIZE\n",
    "    return offspring"
   ]
  },
  {
   "cell_type": "markdown",
   "metadata": {},
   "source": [
    "### Population generation"
   ]
  },
  {
   "cell_type": "code",
   "execution_count": null,
   "metadata": {},
   "outputs": [],
   "source": [
    "population = [\n",
    "    Individual(genotype=choices([0, 1], k=GENOTYPE_SIZE), fitness=None)\n",
    "    for _ in range(POPULATION_SIZE)\n",
    "]\n",
    "\n",
    "for ind in population:\n",
    "    ind.fitness = fitness(ind.genotype)\n",
    "\n",
    "population"
   ]
  },
  {
   "cell_type": "markdown",
   "metadata": {},
   "source": [
    "### Offsprings generation"
   ]
  },
  {
   "cell_type": "code",
   "execution_count": null,
   "metadata": {},
   "outputs": [],
   "source": [
    "with tqdm(total=N_GENERATIONS * OFFSPRING_SIZE) as pbar:\n",
    "    \n",
    "    for generation in range(N_GENERATIONS):\n",
    "        offspring = list()\n",
    "\n",
    "        for counter in range(OFFSPRING_SIZE):\n",
    "            if random() < MUTATION_PROBABILITY:\n",
    "                p = select_parent(population)\n",
    "                o = mutate(p)\n",
    "            else:\n",
    "                p1 = select_parent(population)\n",
    "                p2 = select_parent(population)\n",
    "                o = one_cut_xover(p1, p2)\n",
    "\n",
    "            offspring.append(o)\n",
    "        \n",
    "            pbar.update(1)\n",
    "        \n",
    "        for i in offspring:\n",
    "            i.fitness = fitness(i.genotype)\n",
    "        \n",
    "        population.extend(offspring)\n",
    "        population.sort(key=lambda i: i.fitness, reverse=True)\n",
    "        population = population[:POPULATION_SIZE]\n",
    "        print(population[0].fitness)\n",
    "        \n",
    "        if population[0].fitness == 1.0:\n",
    "            break\n",
    "    \n",
    "print(fitness.calls)"
   ]
  },
  {
   "cell_type": "code",
   "execution_count": null,
   "metadata": {},
   "outputs": [],
   "source": [
    "population"
   ]
  },
  {
   "cell_type": "markdown",
   "metadata": {},
   "source": [
    "## Random strategy"
   ]
  },
  {
   "cell_type": "code",
   "execution_count": null,
   "metadata": {},
   "outputs": [],
   "source": [
    "fitness = lab9_lib.make_problem(10)\n",
    "for n in range(10):\n",
    "    ind = choices([0, 1], k=50)\n",
    "    print(f\"{''.join(str(g) for g in ind)}: {fitness(ind):.2%}\")\n",
    "print(fitness.calls)"
   ]
  },
  {
   "cell_type": "code",
   "execution_count": null,
   "metadata": {},
   "outputs": [],
   "source": []
  }
 ],
 "metadata": {
  "kernelspec": {
   "display_name": "ci-fLJ3OwGs-py3.12",
   "language": "python",
   "name": "python3"
  },
  "language_info": {
   "codemirror_mode": {
    "name": "ipython",
    "version": 3
   },
   "file_extension": ".py",
   "mimetype": "text/x-python",
   "name": "python",
   "nbconvert_exporter": "python",
   "pygments_lexer": "ipython3",
   "version": "3.9.18"
  }
 },
 "nbformat": 4,
 "nbformat_minor": 2
}
